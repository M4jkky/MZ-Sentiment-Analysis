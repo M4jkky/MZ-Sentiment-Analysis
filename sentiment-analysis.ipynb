{
 "cells": [
  {
   "metadata": {},
   "cell_type": "markdown",
   "source": "## Načítanie knižníc",
   "id": "2241cf3812b9f830"
  },
  {
   "cell_type": "code",
   "id": "initial_id",
   "metadata": {
    "collapsed": true,
    "ExecuteTime": {
     "end_time": "2024-11-01T09:36:54.104409Z",
     "start_time": "2024-11-01T09:36:54.096776Z"
    }
   },
   "source": [
    "import pandas as pd\n",
    "import numpy as np\n",
    "import matplotlib.pyplot as plt\n",
    "import seaborn as sns\n",
    "import re\n",
    "import nltk\n",
    "\n",
    "from sklearn.feature_extraction.text import TfidfVectorizer\n",
    "from sklearn.model_selection import train_test_split\n",
    "from sklearn.linear_model import LogisticRegression\n",
    "from sklearn.svm import SVC\n",
    "from sklearn.naive_bayes import MultinomialNB\n",
    "from sklearn.metrics import classification_report, confusion_matrix, accuracy_score\n",
    "from nltk.corpus import stopwords, wordnet\n",
    "from nltk.tokenize import word_tokenize\n",
    "from nltk.stem import WordNetLemmatizer"
   ],
   "outputs": [],
   "execution_count": 51
  },
  {
   "metadata": {},
   "cell_type": "markdown",
   "source": "## Načítanie dát",
   "id": "44371e36d5097973"
  },
  {
   "metadata": {
    "ExecuteTime": {
     "end_time": "2024-11-01T09:36:54.254900Z",
     "start_time": "2024-11-01T09:36:54.128281Z"
    }
   },
   "cell_type": "code",
   "source": [
    "df_train = pd.read_csv('data/Twitter/twitter_training.csv')\n",
    "df_test = pd.read_csv('data/Twitter/twitter_validation.csv')\n",
    "\n",
    "df_train"
   ],
   "id": "87654f57da07c9a5",
   "outputs": [
    {
     "data": {
      "text/plain": [
       "       2401  Borderlands  Positive  \\\n",
       "0      2401  Borderlands  Positive   \n",
       "1      2401  Borderlands  Positive   \n",
       "2      2401  Borderlands  Positive   \n",
       "3      2401  Borderlands  Positive   \n",
       "4      2401  Borderlands  Positive   \n",
       "...     ...          ...       ...   \n",
       "74676  9200       Nvidia  Positive   \n",
       "74677  9200       Nvidia  Positive   \n",
       "74678  9200       Nvidia  Positive   \n",
       "74679  9200       Nvidia  Positive   \n",
       "74680  9200       Nvidia  Positive   \n",
       "\n",
       "      im getting on borderlands and i will murder you all ,  \n",
       "0      I am coming to the borders and I will kill you...     \n",
       "1      im getting on borderlands and i will kill you ...     \n",
       "2      im coming on borderlands and i will murder you...     \n",
       "3      im getting on borderlands 2 and i will murder ...     \n",
       "4      im getting into borderlands and i can murder y...     \n",
       "...                                                  ...     \n",
       "74676  Just realized that the Windows partition of my...     \n",
       "74677  Just realized that my Mac window partition is ...     \n",
       "74678  Just realized the windows partition of my Mac ...     \n",
       "74679  Just realized between the windows partition of...     \n",
       "74680  Just like the windows partition of my Mac is l...     \n",
       "\n",
       "[74681 rows x 4 columns]"
      ],
      "text/html": [
       "<div>\n",
       "<style scoped>\n",
       "    .dataframe tbody tr th:only-of-type {\n",
       "        vertical-align: middle;\n",
       "    }\n",
       "\n",
       "    .dataframe tbody tr th {\n",
       "        vertical-align: top;\n",
       "    }\n",
       "\n",
       "    .dataframe thead th {\n",
       "        text-align: right;\n",
       "    }\n",
       "</style>\n",
       "<table border=\"1\" class=\"dataframe\">\n",
       "  <thead>\n",
       "    <tr style=\"text-align: right;\">\n",
       "      <th></th>\n",
       "      <th>2401</th>\n",
       "      <th>Borderlands</th>\n",
       "      <th>Positive</th>\n",
       "      <th>im getting on borderlands and i will murder you all ,</th>\n",
       "    </tr>\n",
       "  </thead>\n",
       "  <tbody>\n",
       "    <tr>\n",
       "      <th>0</th>\n",
       "      <td>2401</td>\n",
       "      <td>Borderlands</td>\n",
       "      <td>Positive</td>\n",
       "      <td>I am coming to the borders and I will kill you...</td>\n",
       "    </tr>\n",
       "    <tr>\n",
       "      <th>1</th>\n",
       "      <td>2401</td>\n",
       "      <td>Borderlands</td>\n",
       "      <td>Positive</td>\n",
       "      <td>im getting on borderlands and i will kill you ...</td>\n",
       "    </tr>\n",
       "    <tr>\n",
       "      <th>2</th>\n",
       "      <td>2401</td>\n",
       "      <td>Borderlands</td>\n",
       "      <td>Positive</td>\n",
       "      <td>im coming on borderlands and i will murder you...</td>\n",
       "    </tr>\n",
       "    <tr>\n",
       "      <th>3</th>\n",
       "      <td>2401</td>\n",
       "      <td>Borderlands</td>\n",
       "      <td>Positive</td>\n",
       "      <td>im getting on borderlands 2 and i will murder ...</td>\n",
       "    </tr>\n",
       "    <tr>\n",
       "      <th>4</th>\n",
       "      <td>2401</td>\n",
       "      <td>Borderlands</td>\n",
       "      <td>Positive</td>\n",
       "      <td>im getting into borderlands and i can murder y...</td>\n",
       "    </tr>\n",
       "    <tr>\n",
       "      <th>...</th>\n",
       "      <td>...</td>\n",
       "      <td>...</td>\n",
       "      <td>...</td>\n",
       "      <td>...</td>\n",
       "    </tr>\n",
       "    <tr>\n",
       "      <th>74676</th>\n",
       "      <td>9200</td>\n",
       "      <td>Nvidia</td>\n",
       "      <td>Positive</td>\n",
       "      <td>Just realized that the Windows partition of my...</td>\n",
       "    </tr>\n",
       "    <tr>\n",
       "      <th>74677</th>\n",
       "      <td>9200</td>\n",
       "      <td>Nvidia</td>\n",
       "      <td>Positive</td>\n",
       "      <td>Just realized that my Mac window partition is ...</td>\n",
       "    </tr>\n",
       "    <tr>\n",
       "      <th>74678</th>\n",
       "      <td>9200</td>\n",
       "      <td>Nvidia</td>\n",
       "      <td>Positive</td>\n",
       "      <td>Just realized the windows partition of my Mac ...</td>\n",
       "    </tr>\n",
       "    <tr>\n",
       "      <th>74679</th>\n",
       "      <td>9200</td>\n",
       "      <td>Nvidia</td>\n",
       "      <td>Positive</td>\n",
       "      <td>Just realized between the windows partition of...</td>\n",
       "    </tr>\n",
       "    <tr>\n",
       "      <th>74680</th>\n",
       "      <td>9200</td>\n",
       "      <td>Nvidia</td>\n",
       "      <td>Positive</td>\n",
       "      <td>Just like the windows partition of my Mac is l...</td>\n",
       "    </tr>\n",
       "  </tbody>\n",
       "</table>\n",
       "<p>74681 rows × 4 columns</p>\n",
       "</div>"
      ]
     },
     "execution_count": 52,
     "metadata": {},
     "output_type": "execute_result"
    }
   ],
   "execution_count": 52
  },
  {
   "metadata": {
    "ExecuteTime": {
     "end_time": "2024-11-01T09:36:54.286582Z",
     "start_time": "2024-11-01T09:36:54.281338Z"
    }
   },
   "cell_type": "code",
   "source": "df_test",
   "id": "458dfca726758349",
   "outputs": [
    {
     "data": {
      "text/plain": [
       "     3364             Facebook  Irrelevant  \\\n",
       "0     352               Amazon     Neutral   \n",
       "1    8312            Microsoft    Negative   \n",
       "2    4371                CS-GO    Negative   \n",
       "3    4433               Google     Neutral   \n",
       "4    6273                 FIFA    Negative   \n",
       "..    ...                  ...         ...   \n",
       "994  4891  GrandTheftAuto(GTA)  Irrelevant   \n",
       "995  4359                CS-GO  Irrelevant   \n",
       "996  2652          Borderlands    Positive   \n",
       "997  8069            Microsoft    Positive   \n",
       "998  6960      johnson&johnson     Neutral   \n",
       "\n",
       "    I mentioned on Facebook that I was struggling for motivation to go for a run the other day, which has been translated by Tom’s great auntie as ‘Hayley can’t get out of bed’ and told to his grandma, who now thinks I’m a lazy, terrible person 🤣  \n",
       "0    BBC News - Amazon boss Jeff Bezos rejects clai...                                                                                                                                                                                                  \n",
       "1    @Microsoft Why do I pay for WORD when it funct...                                                                                                                                                                                                  \n",
       "2    CSGO matchmaking is so full of closet hacking,...                                                                                                                                                                                                  \n",
       "3    Now the President is slapping Americans in the...                                                                                                                                                                                                  \n",
       "4    Hi @EAHelp I’ve had Madeleine McCann in my cel...                                                                                                                                                                                                  \n",
       "..                                                 ...                                                                                                                                                                                                  \n",
       "994  ⭐️ Toronto is the arts and culture capital of ...                                                                                                                                                                                                  \n",
       "995  tHIS IS ACTUALLY A GOOD MOVE TOT BRING MORE VI...                                                                                                                                                                                                  \n",
       "996  Today sucked so it’s time to drink wine n play...                                                                                                                                                                                                  \n",
       "997  Bought a fraction of Microsoft today. Small wins.                                                                                                                                                                                                  \n",
       "998  Johnson & Johnson to stop selling talc baby po...                                                                                                                                                                                                  \n",
       "\n",
       "[999 rows x 4 columns]"
      ],
      "text/html": [
       "<div>\n",
       "<style scoped>\n",
       "    .dataframe tbody tr th:only-of-type {\n",
       "        vertical-align: middle;\n",
       "    }\n",
       "\n",
       "    .dataframe tbody tr th {\n",
       "        vertical-align: top;\n",
       "    }\n",
       "\n",
       "    .dataframe thead th {\n",
       "        text-align: right;\n",
       "    }\n",
       "</style>\n",
       "<table border=\"1\" class=\"dataframe\">\n",
       "  <thead>\n",
       "    <tr style=\"text-align: right;\">\n",
       "      <th></th>\n",
       "      <th>3364</th>\n",
       "      <th>Facebook</th>\n",
       "      <th>Irrelevant</th>\n",
       "      <th>I mentioned on Facebook that I was struggling for motivation to go for a run the other day, which has been translated by Tom’s great auntie as ‘Hayley can’t get out of bed’ and told to his grandma, who now thinks I’m a lazy, terrible person 🤣</th>\n",
       "    </tr>\n",
       "  </thead>\n",
       "  <tbody>\n",
       "    <tr>\n",
       "      <th>0</th>\n",
       "      <td>352</td>\n",
       "      <td>Amazon</td>\n",
       "      <td>Neutral</td>\n",
       "      <td>BBC News - Amazon boss Jeff Bezos rejects clai...</td>\n",
       "    </tr>\n",
       "    <tr>\n",
       "      <th>1</th>\n",
       "      <td>8312</td>\n",
       "      <td>Microsoft</td>\n",
       "      <td>Negative</td>\n",
       "      <td>@Microsoft Why do I pay for WORD when it funct...</td>\n",
       "    </tr>\n",
       "    <tr>\n",
       "      <th>2</th>\n",
       "      <td>4371</td>\n",
       "      <td>CS-GO</td>\n",
       "      <td>Negative</td>\n",
       "      <td>CSGO matchmaking is so full of closet hacking,...</td>\n",
       "    </tr>\n",
       "    <tr>\n",
       "      <th>3</th>\n",
       "      <td>4433</td>\n",
       "      <td>Google</td>\n",
       "      <td>Neutral</td>\n",
       "      <td>Now the President is slapping Americans in the...</td>\n",
       "    </tr>\n",
       "    <tr>\n",
       "      <th>4</th>\n",
       "      <td>6273</td>\n",
       "      <td>FIFA</td>\n",
       "      <td>Negative</td>\n",
       "      <td>Hi @EAHelp I’ve had Madeleine McCann in my cel...</td>\n",
       "    </tr>\n",
       "    <tr>\n",
       "      <th>...</th>\n",
       "      <td>...</td>\n",
       "      <td>...</td>\n",
       "      <td>...</td>\n",
       "      <td>...</td>\n",
       "    </tr>\n",
       "    <tr>\n",
       "      <th>994</th>\n",
       "      <td>4891</td>\n",
       "      <td>GrandTheftAuto(GTA)</td>\n",
       "      <td>Irrelevant</td>\n",
       "      <td>⭐️ Toronto is the arts and culture capital of ...</td>\n",
       "    </tr>\n",
       "    <tr>\n",
       "      <th>995</th>\n",
       "      <td>4359</td>\n",
       "      <td>CS-GO</td>\n",
       "      <td>Irrelevant</td>\n",
       "      <td>tHIS IS ACTUALLY A GOOD MOVE TOT BRING MORE VI...</td>\n",
       "    </tr>\n",
       "    <tr>\n",
       "      <th>996</th>\n",
       "      <td>2652</td>\n",
       "      <td>Borderlands</td>\n",
       "      <td>Positive</td>\n",
       "      <td>Today sucked so it’s time to drink wine n play...</td>\n",
       "    </tr>\n",
       "    <tr>\n",
       "      <th>997</th>\n",
       "      <td>8069</td>\n",
       "      <td>Microsoft</td>\n",
       "      <td>Positive</td>\n",
       "      <td>Bought a fraction of Microsoft today. Small wins.</td>\n",
       "    </tr>\n",
       "    <tr>\n",
       "      <th>998</th>\n",
       "      <td>6960</td>\n",
       "      <td>johnson&amp;johnson</td>\n",
       "      <td>Neutral</td>\n",
       "      <td>Johnson &amp; Johnson to stop selling talc baby po...</td>\n",
       "    </tr>\n",
       "  </tbody>\n",
       "</table>\n",
       "<p>999 rows × 4 columns</p>\n",
       "</div>"
      ]
     },
     "execution_count": 53,
     "metadata": {},
     "output_type": "execute_result"
    }
   ],
   "execution_count": 53
  },
  {
   "metadata": {},
   "cell_type": "markdown",
   "source": "## Označenie stĺpcov",
   "id": "fcd31f5dc27dc38f"
  },
  {
   "metadata": {
    "ExecuteTime": {
     "end_time": "2024-11-01T09:36:54.340177Z",
     "start_time": "2024-11-01T09:36:54.337802Z"
    }
   },
   "cell_type": "code",
   "source": [
    "df_train.columns=['id','info','target','tweet']\n",
    "df_test.columns=['id','info','target','tweet']"
   ],
   "id": "139e4ee3c224bc66",
   "outputs": [],
   "execution_count": 54
  },
  {
   "metadata": {
    "ExecuteTime": {
     "end_time": "2024-11-01T09:36:54.379432Z",
     "start_time": "2024-11-01T09:36:54.373273Z"
    }
   },
   "cell_type": "code",
   "source": "df_train.head()",
   "id": "3d4cef587a016009",
   "outputs": [
    {
     "data": {
      "text/plain": [
       "     id         info    target  \\\n",
       "0  2401  Borderlands  Positive   \n",
       "1  2401  Borderlands  Positive   \n",
       "2  2401  Borderlands  Positive   \n",
       "3  2401  Borderlands  Positive   \n",
       "4  2401  Borderlands  Positive   \n",
       "\n",
       "                                               tweet  \n",
       "0  I am coming to the borders and I will kill you...  \n",
       "1  im getting on borderlands and i will kill you ...  \n",
       "2  im coming on borderlands and i will murder you...  \n",
       "3  im getting on borderlands 2 and i will murder ...  \n",
       "4  im getting into borderlands and i can murder y...  "
      ],
      "text/html": [
       "<div>\n",
       "<style scoped>\n",
       "    .dataframe tbody tr th:only-of-type {\n",
       "        vertical-align: middle;\n",
       "    }\n",
       "\n",
       "    .dataframe tbody tr th {\n",
       "        vertical-align: top;\n",
       "    }\n",
       "\n",
       "    .dataframe thead th {\n",
       "        text-align: right;\n",
       "    }\n",
       "</style>\n",
       "<table border=\"1\" class=\"dataframe\">\n",
       "  <thead>\n",
       "    <tr style=\"text-align: right;\">\n",
       "      <th></th>\n",
       "      <th>id</th>\n",
       "      <th>info</th>\n",
       "      <th>target</th>\n",
       "      <th>tweet</th>\n",
       "    </tr>\n",
       "  </thead>\n",
       "  <tbody>\n",
       "    <tr>\n",
       "      <th>0</th>\n",
       "      <td>2401</td>\n",
       "      <td>Borderlands</td>\n",
       "      <td>Positive</td>\n",
       "      <td>I am coming to the borders and I will kill you...</td>\n",
       "    </tr>\n",
       "    <tr>\n",
       "      <th>1</th>\n",
       "      <td>2401</td>\n",
       "      <td>Borderlands</td>\n",
       "      <td>Positive</td>\n",
       "      <td>im getting on borderlands and i will kill you ...</td>\n",
       "    </tr>\n",
       "    <tr>\n",
       "      <th>2</th>\n",
       "      <td>2401</td>\n",
       "      <td>Borderlands</td>\n",
       "      <td>Positive</td>\n",
       "      <td>im coming on borderlands and i will murder you...</td>\n",
       "    </tr>\n",
       "    <tr>\n",
       "      <th>3</th>\n",
       "      <td>2401</td>\n",
       "      <td>Borderlands</td>\n",
       "      <td>Positive</td>\n",
       "      <td>im getting on borderlands 2 and i will murder ...</td>\n",
       "    </tr>\n",
       "    <tr>\n",
       "      <th>4</th>\n",
       "      <td>2401</td>\n",
       "      <td>Borderlands</td>\n",
       "      <td>Positive</td>\n",
       "      <td>im getting into borderlands and i can murder y...</td>\n",
       "    </tr>\n",
       "  </tbody>\n",
       "</table>\n",
       "</div>"
      ]
     },
     "execution_count": 55,
     "metadata": {},
     "output_type": "execute_result"
    }
   ],
   "execution_count": 55
  },
  {
   "metadata": {
    "ExecuteTime": {
     "end_time": "2024-11-01T09:36:54.515573Z",
     "start_time": "2024-11-01T09:36:54.511623Z"
    }
   },
   "cell_type": "code",
   "source": "df_test.head()",
   "id": "a8498c2e0918d1b1",
   "outputs": [
    {
     "data": {
      "text/plain": [
       "     id       info    target  \\\n",
       "0   352     Amazon   Neutral   \n",
       "1  8312  Microsoft  Negative   \n",
       "2  4371      CS-GO  Negative   \n",
       "3  4433     Google   Neutral   \n",
       "4  6273       FIFA  Negative   \n",
       "\n",
       "                                               tweet  \n",
       "0  BBC News - Amazon boss Jeff Bezos rejects clai...  \n",
       "1  @Microsoft Why do I pay for WORD when it funct...  \n",
       "2  CSGO matchmaking is so full of closet hacking,...  \n",
       "3  Now the President is slapping Americans in the...  \n",
       "4  Hi @EAHelp I’ve had Madeleine McCann in my cel...  "
      ],
      "text/html": [
       "<div>\n",
       "<style scoped>\n",
       "    .dataframe tbody tr th:only-of-type {\n",
       "        vertical-align: middle;\n",
       "    }\n",
       "\n",
       "    .dataframe tbody tr th {\n",
       "        vertical-align: top;\n",
       "    }\n",
       "\n",
       "    .dataframe thead th {\n",
       "        text-align: right;\n",
       "    }\n",
       "</style>\n",
       "<table border=\"1\" class=\"dataframe\">\n",
       "  <thead>\n",
       "    <tr style=\"text-align: right;\">\n",
       "      <th></th>\n",
       "      <th>id</th>\n",
       "      <th>info</th>\n",
       "      <th>target</th>\n",
       "      <th>tweet</th>\n",
       "    </tr>\n",
       "  </thead>\n",
       "  <tbody>\n",
       "    <tr>\n",
       "      <th>0</th>\n",
       "      <td>352</td>\n",
       "      <td>Amazon</td>\n",
       "      <td>Neutral</td>\n",
       "      <td>BBC News - Amazon boss Jeff Bezos rejects clai...</td>\n",
       "    </tr>\n",
       "    <tr>\n",
       "      <th>1</th>\n",
       "      <td>8312</td>\n",
       "      <td>Microsoft</td>\n",
       "      <td>Negative</td>\n",
       "      <td>@Microsoft Why do I pay for WORD when it funct...</td>\n",
       "    </tr>\n",
       "    <tr>\n",
       "      <th>2</th>\n",
       "      <td>4371</td>\n",
       "      <td>CS-GO</td>\n",
       "      <td>Negative</td>\n",
       "      <td>CSGO matchmaking is so full of closet hacking,...</td>\n",
       "    </tr>\n",
       "    <tr>\n",
       "      <th>3</th>\n",
       "      <td>4433</td>\n",
       "      <td>Google</td>\n",
       "      <td>Neutral</td>\n",
       "      <td>Now the President is slapping Americans in the...</td>\n",
       "    </tr>\n",
       "    <tr>\n",
       "      <th>4</th>\n",
       "      <td>6273</td>\n",
       "      <td>FIFA</td>\n",
       "      <td>Negative</td>\n",
       "      <td>Hi @EAHelp I’ve had Madeleine McCann in my cel...</td>\n",
       "    </tr>\n",
       "  </tbody>\n",
       "</table>\n",
       "</div>"
      ]
     },
     "execution_count": 56,
     "metadata": {},
     "output_type": "execute_result"
    }
   ],
   "execution_count": 56
  },
  {
   "metadata": {},
   "cell_type": "markdown",
   "source": [
    "## Predspracovanie dáta\n",
    "#### Odstránenie irelevantných stĺpcov"
   ],
   "id": "28082adaa1cf8d09"
  },
  {
   "metadata": {
    "ExecuteTime": {
     "end_time": "2024-11-01T09:36:54.587959Z",
     "start_time": "2024-11-01T09:36:54.582796Z"
    }
   },
   "cell_type": "code",
   "source": [
    "df_train.drop(['id','info'], axis=1, inplace=True)\n",
    "df_test.drop(['id','info'], axis=1, inplace=True)"
   ],
   "id": "333837a2aab8a2e3",
   "outputs": [],
   "execution_count": 57
  },
  {
   "metadata": {
    "ExecuteTime": {
     "end_time": "2024-11-01T09:36:54.660203Z",
     "start_time": "2024-11-01T09:36:54.652146Z"
    }
   },
   "cell_type": "code",
   "source": "df_train.isna().sum()",
   "id": "54530c5470454fb4",
   "outputs": [
    {
     "data": {
      "text/plain": [
       "target      0\n",
       "tweet     686\n",
       "dtype: int64"
      ]
     },
     "execution_count": 58,
     "metadata": {},
     "output_type": "execute_result"
    }
   ],
   "execution_count": 58
  },
  {
   "metadata": {},
   "cell_type": "markdown",
   "source": "#### Odstránenie chýbajúcich hodnôt",
   "id": "a01a9b17daab8a7"
  },
  {
   "metadata": {
    "ExecuteTime": {
     "end_time": "2024-11-01T09:36:54.720666Z",
     "start_time": "2024-11-01T09:36:54.710596Z"
    }
   },
   "cell_type": "code",
   "source": "df_train.dropna(inplace=True)",
   "id": "cd6d47cd979317e1",
   "outputs": [],
   "execution_count": 59
  },
  {
   "metadata": {},
   "cell_type": "markdown",
   "source": "#### Odstránenie duplikátov",
   "id": "c009b246c07de36d"
  },
  {
   "metadata": {
    "ExecuteTime": {
     "end_time": "2024-11-01T09:36:54.789134Z",
     "start_time": "2024-11-01T09:36:54.750657Z"
    }
   },
   "cell_type": "code",
   "source": "df_train.duplicated().sum()",
   "id": "ac87ff34d4abaed5",
   "outputs": [
    {
     "data": {
      "text/plain": [
       "np.int64(4227)"
      ]
     },
     "execution_count": 60,
     "metadata": {},
     "output_type": "execute_result"
    }
   ],
   "execution_count": 60
  },
  {
   "metadata": {
    "ExecuteTime": {
     "end_time": "2024-11-01T09:36:54.867358Z",
     "start_time": "2024-11-01T09:36:54.832671Z"
    }
   },
   "cell_type": "code",
   "source": "df_train.drop_duplicates(inplace=True)",
   "id": "8d0d6624dee1062",
   "outputs": [],
   "execution_count": 61
  },
  {
   "metadata": {},
   "cell_type": "markdown",
   "source": "#### Odstránenie špeciálnych znakov, prevedenie na malé písmo a odstránenie stop slov",
   "id": "3122eadda6233f48"
  },
  {
   "metadata": {
    "ExecuteTime": {
     "end_time": "2024-11-01T09:36:55.154422Z",
     "start_time": "2024-11-01T09:36:54.874173Z"
    }
   },
   "cell_type": "code",
   "source": [
    "nltk.download(\"stopwords\")\n",
    "stop_words = set(stopwords.words(\"english\"))\n",
    "\n",
    "def clean_text(text):\n",
    "    text = re.sub(r\"[^a-zA-Z\\s]\", \"\", text)\n",
    "    text = text.lower()\n",
    "    text = \" \".join(word for word in text.split() if word not in stop_words)\n",
    "    return text\n",
    "\n",
    "df_train[\"cleaned_tweet\"] = df_train[\"tweet\"].apply(clean_text)\n",
    "df_test[\"cleaned_tweet\"] = df_test[\"tweet\"].apply(clean_text)"
   ],
   "id": "7d2441200e54325d",
   "outputs": [
    {
     "name": "stderr",
     "output_type": "stream",
     "text": [
      "[nltk_data] Downloading package stopwords to /Users/m4/nltk_data...\n",
      "[nltk_data]   Package stopwords is already up-to-date!\n"
     ]
    }
   ],
   "execution_count": 62
  },
  {
   "metadata": {},
   "cell_type": "markdown",
   "source": "#### Tokenizácia",
   "id": "550257a6fa1b31d3"
  },
  {
   "metadata": {
    "ExecuteTime": {
     "end_time": "2024-11-01T09:36:57.062777Z",
     "start_time": "2024-11-01T09:36:55.160903Z"
    }
   },
   "cell_type": "code",
   "source": [
    "nltk.download(\"punkt_tab\")\n",
    "\n",
    "def tokenize_text(text):\n",
    "    return word_tokenize(text)\n",
    "\n",
    "df_train[\"tokenized_tweet\"] = df_train[\"cleaned_tweet\"].apply(tokenize_text)\n",
    "df_test[\"tokenized_tweet\"] = df_test[\"cleaned_tweet\"].apply(tokenize_text)"
   ],
   "id": "fa426e737f2925f1",
   "outputs": [
    {
     "name": "stderr",
     "output_type": "stream",
     "text": [
      "[nltk_data] Downloading package punkt_tab to /Users/m4/nltk_data...\n",
      "[nltk_data]   Package punkt_tab is already up-to-date!\n"
     ]
    }
   ],
   "execution_count": 63
  },
  {
   "metadata": {},
   "cell_type": "markdown",
   "source": "#### Lematizácia",
   "id": "1f1f7466d864c339"
  },
  {
   "metadata": {
    "ExecuteTime": {
     "end_time": "2024-11-01T09:37:15.064113Z",
     "start_time": "2024-11-01T09:36:57.078985Z"
    }
   },
   "cell_type": "code",
   "source": [
    "from nltk import pos_tag\n",
    "\n",
    "nltk.download(\"wordnet\")\n",
    "nltk.download(\"averaged_perceptron_tagger_eng\")\n",
    "\n",
    "def get_wordnet_pos(tag):\n",
    "    if tag.startswith('J'):\n",
    "        return wordnet.ADJ\n",
    "    elif tag.startswith('V'):\n",
    "        return wordnet.VERB\n",
    "    elif tag.startswith('N'):\n",
    "        return wordnet.NOUN\n",
    "    elif tag.startswith('R'):\n",
    "        return wordnet.ADV\n",
    "    else:\n",
    "        return wordnet.NOUN\n",
    "\n",
    "def lemmatize_text(tokens):\n",
    "    lemmatizer = WordNetLemmatizer()\n",
    "    pos_tags = pos_tag(tokens)\n",
    "    return [lemmatizer.lemmatize(token, get_wordnet_pos(tag)) for token, tag in pos_tags]\n",
    "\n",
    "df_train[\"lemmatized_tweet\"] = df_train[\"tokenized_tweet\"].apply(lemmatize_text)\n",
    "df_test[\"lemmatized_tweet\"] = df_test[\"tokenized_tweet\"].apply(lemmatize_text)"
   ],
   "id": "de90fc8f456f66d6",
   "outputs": [
    {
     "name": "stderr",
     "output_type": "stream",
     "text": [
      "[nltk_data] Downloading package wordnet to /Users/m4/nltk_data...\n",
      "[nltk_data]   Package wordnet is already up-to-date!\n",
      "[nltk_data] Downloading package averaged_perceptron_tagger_eng to\n",
      "[nltk_data]     /Users/m4/nltk_data...\n",
      "[nltk_data]   Package averaged_perceptron_tagger_eng is already up-to-\n",
      "[nltk_data]       date!\n"
     ]
    }
   ],
   "execution_count": 64
  },
  {
   "metadata": {},
   "cell_type": "markdown",
   "source": [
    "## Extrakcia príznakov\n",
    "\n",
    "\n",
    "#### Vektorová reprezentácia pomocou TF-IDF"
   ],
   "id": "1a21420f9f80e20"
  },
  {
   "metadata": {
    "ExecuteTime": {
     "end_time": "2024-11-01T09:37:15.405623Z",
     "start_time": "2024-11-01T09:37:15.067676Z"
    }
   },
   "cell_type": "code",
   "source": [
    "df_train[\"tf-idf_apply\"] = df_train[\"lemmatized_tweet\"].apply(lambda tokens: \" \".join(tokens))\n",
    "df_test[\"tf-idf_apply\"] = df_test[\"lemmatized_tweet\"].apply(lambda tokens: \" \".join(tokens))\n",
    "\n",
    "vectorizer = TfidfVectorizer(max_features=7500)\n",
    "X_train = vectorizer.fit_transform(df_train[\"tf-idf_apply\"])\n",
    "X_test = vectorizer.transform(df_test[\"tf-idf_apply\"])"
   ],
   "id": "54bd4a7b00c7ea20",
   "outputs": [],
   "execution_count": 65
  },
  {
   "metadata": {
    "ExecuteTime": {
     "end_time": "2024-11-01T09:37:15.427658Z",
     "start_time": "2024-11-01T09:37:15.421262Z"
    }
   },
   "cell_type": "code",
   "source": "df_train.head(10)",
   "id": "5d937958435472d",
   "outputs": [
    {
     "data": {
      "text/plain": [
       "     target                                              tweet  \\\n",
       "0  Positive  I am coming to the borders and I will kill you...   \n",
       "1  Positive  im getting on borderlands and i will kill you ...   \n",
       "2  Positive  im coming on borderlands and i will murder you...   \n",
       "3  Positive  im getting on borderlands 2 and i will murder ...   \n",
       "4  Positive  im getting into borderlands and i can murder y...   \n",
       "5  Positive  So I spent a few hours making something for fu...   \n",
       "6  Positive  So I spent a couple of hours doing something f...   \n",
       "7  Positive  So I spent a few hours doing something for fun...   \n",
       "8  Positive  So I spent a few hours making something for fu...   \n",
       "9  Positive  2010 So I spent a few hours making something f...   \n",
       "\n",
       "                                       cleaned_tweet  \\\n",
       "0                                coming borders kill   \n",
       "1                        im getting borderlands kill   \n",
       "2                       im coming borderlands murder   \n",
       "3                      im getting borderlands murder   \n",
       "4                      im getting borderlands murder   \n",
       "5  spent hours making something fun dont know hug...   \n",
       "6  spent couple hours something fun dont know im ...   \n",
       "7  spent hours something fun dont know im huge bo...   \n",
       "8  spent hours making something fun dont know hug...   \n",
       "9  spent hours making something fun dont know hug...   \n",
       "\n",
       "                                     tokenized_tweet  \\\n",
       "0                            [coming, borders, kill]   \n",
       "1                   [im, getting, borderlands, kill]   \n",
       "2                  [im, coming, borderlands, murder]   \n",
       "3                 [im, getting, borderlands, murder]   \n",
       "4                 [im, getting, borderlands, murder]   \n",
       "5  [spent, hours, making, something, fun, dont, k...   \n",
       "6  [spent, couple, hours, something, fun, dont, k...   \n",
       "7  [spent, hours, something, fun, dont, know, im,...   \n",
       "8  [spent, hours, making, something, fun, dont, k...   \n",
       "9  [spent, hours, making, something, fun, dont, k...   \n",
       "\n",
       "                                    lemmatized_tweet  \\\n",
       "0                               [come, border, kill]   \n",
       "1                        [im, get, borderland, kill]   \n",
       "2                     [im, come, borderland, murder]   \n",
       "3                      [im, get, borderland, murder]   \n",
       "4                      [im, get, borderland, murder]   \n",
       "5  [spent, hour, make, something, fun, dont, know...   \n",
       "6  [spent, couple, hour, something, fun, dont, kn...   \n",
       "7  [spent, hour, something, fun, dont, know, im, ...   \n",
       "8  [spent, hour, make, something, fun, dont, know...   \n",
       "9  [spent, hour, make, something, fun, dont, know...   \n",
       "\n",
       "                                        tf-idf_apply  \n",
       "0                                   come border kill  \n",
       "1                             im get borderland kill  \n",
       "2                          im come borderland murder  \n",
       "3                           im get borderland murder  \n",
       "4                           im get borderland murder  \n",
       "5  spent hour make something fun dont know huge b...  \n",
       "6  spent couple hour something fun dont know im h...  \n",
       "7  spent hour something fun dont know im huge bor...  \n",
       "8  spent hour make something fun dont know huge r...  \n",
       "9  spent hour make something fun dont know huge r...  "
      ],
      "text/html": [
       "<div>\n",
       "<style scoped>\n",
       "    .dataframe tbody tr th:only-of-type {\n",
       "        vertical-align: middle;\n",
       "    }\n",
       "\n",
       "    .dataframe tbody tr th {\n",
       "        vertical-align: top;\n",
       "    }\n",
       "\n",
       "    .dataframe thead th {\n",
       "        text-align: right;\n",
       "    }\n",
       "</style>\n",
       "<table border=\"1\" class=\"dataframe\">\n",
       "  <thead>\n",
       "    <tr style=\"text-align: right;\">\n",
       "      <th></th>\n",
       "      <th>target</th>\n",
       "      <th>tweet</th>\n",
       "      <th>cleaned_tweet</th>\n",
       "      <th>tokenized_tweet</th>\n",
       "      <th>lemmatized_tweet</th>\n",
       "      <th>tf-idf_apply</th>\n",
       "    </tr>\n",
       "  </thead>\n",
       "  <tbody>\n",
       "    <tr>\n",
       "      <th>0</th>\n",
       "      <td>Positive</td>\n",
       "      <td>I am coming to the borders and I will kill you...</td>\n",
       "      <td>coming borders kill</td>\n",
       "      <td>[coming, borders, kill]</td>\n",
       "      <td>[come, border, kill]</td>\n",
       "      <td>come border kill</td>\n",
       "    </tr>\n",
       "    <tr>\n",
       "      <th>1</th>\n",
       "      <td>Positive</td>\n",
       "      <td>im getting on borderlands and i will kill you ...</td>\n",
       "      <td>im getting borderlands kill</td>\n",
       "      <td>[im, getting, borderlands, kill]</td>\n",
       "      <td>[im, get, borderland, kill]</td>\n",
       "      <td>im get borderland kill</td>\n",
       "    </tr>\n",
       "    <tr>\n",
       "      <th>2</th>\n",
       "      <td>Positive</td>\n",
       "      <td>im coming on borderlands and i will murder you...</td>\n",
       "      <td>im coming borderlands murder</td>\n",
       "      <td>[im, coming, borderlands, murder]</td>\n",
       "      <td>[im, come, borderland, murder]</td>\n",
       "      <td>im come borderland murder</td>\n",
       "    </tr>\n",
       "    <tr>\n",
       "      <th>3</th>\n",
       "      <td>Positive</td>\n",
       "      <td>im getting on borderlands 2 and i will murder ...</td>\n",
       "      <td>im getting borderlands murder</td>\n",
       "      <td>[im, getting, borderlands, murder]</td>\n",
       "      <td>[im, get, borderland, murder]</td>\n",
       "      <td>im get borderland murder</td>\n",
       "    </tr>\n",
       "    <tr>\n",
       "      <th>4</th>\n",
       "      <td>Positive</td>\n",
       "      <td>im getting into borderlands and i can murder y...</td>\n",
       "      <td>im getting borderlands murder</td>\n",
       "      <td>[im, getting, borderlands, murder]</td>\n",
       "      <td>[im, get, borderland, murder]</td>\n",
       "      <td>im get borderland murder</td>\n",
       "    </tr>\n",
       "    <tr>\n",
       "      <th>5</th>\n",
       "      <td>Positive</td>\n",
       "      <td>So I spent a few hours making something for fu...</td>\n",
       "      <td>spent hours making something fun dont know hug...</td>\n",
       "      <td>[spent, hours, making, something, fun, dont, k...</td>\n",
       "      <td>[spent, hour, make, something, fun, dont, know...</td>\n",
       "      <td>spent hour make something fun dont know huge b...</td>\n",
       "    </tr>\n",
       "    <tr>\n",
       "      <th>6</th>\n",
       "      <td>Positive</td>\n",
       "      <td>So I spent a couple of hours doing something f...</td>\n",
       "      <td>spent couple hours something fun dont know im ...</td>\n",
       "      <td>[spent, couple, hours, something, fun, dont, k...</td>\n",
       "      <td>[spent, couple, hour, something, fun, dont, kn...</td>\n",
       "      <td>spent couple hour something fun dont know im h...</td>\n",
       "    </tr>\n",
       "    <tr>\n",
       "      <th>7</th>\n",
       "      <td>Positive</td>\n",
       "      <td>So I spent a few hours doing something for fun...</td>\n",
       "      <td>spent hours something fun dont know im huge bo...</td>\n",
       "      <td>[spent, hours, something, fun, dont, know, im,...</td>\n",
       "      <td>[spent, hour, something, fun, dont, know, im, ...</td>\n",
       "      <td>spent hour something fun dont know im huge bor...</td>\n",
       "    </tr>\n",
       "    <tr>\n",
       "      <th>8</th>\n",
       "      <td>Positive</td>\n",
       "      <td>So I spent a few hours making something for fu...</td>\n",
       "      <td>spent hours making something fun dont know hug...</td>\n",
       "      <td>[spent, hours, making, something, fun, dont, k...</td>\n",
       "      <td>[spent, hour, make, something, fun, dont, know...</td>\n",
       "      <td>spent hour make something fun dont know huge r...</td>\n",
       "    </tr>\n",
       "    <tr>\n",
       "      <th>9</th>\n",
       "      <td>Positive</td>\n",
       "      <td>2010 So I spent a few hours making something f...</td>\n",
       "      <td>spent hours making something fun dont know hug...</td>\n",
       "      <td>[spent, hours, making, something, fun, dont, k...</td>\n",
       "      <td>[spent, hour, make, something, fun, dont, know...</td>\n",
       "      <td>spent hour make something fun dont know huge r...</td>\n",
       "    </tr>\n",
       "  </tbody>\n",
       "</table>\n",
       "</div>"
      ]
     },
     "execution_count": 66,
     "metadata": {},
     "output_type": "execute_result"
    }
   ],
   "execution_count": 66
  },
  {
   "metadata": {},
   "cell_type": "markdown",
   "source": "## Rozdelenie dát na trénovacie a testovacie dáta",
   "id": "ab160650db08700a"
  },
  {
   "metadata": {
    "ExecuteTime": {
     "end_time": "2024-11-01T09:37:15.475743Z",
     "start_time": "2024-11-01T09:37:15.465973Z"
    }
   },
   "cell_type": "code",
   "source": [
    "y_train = df_train[\"target\"]\n",
    "y_test = df_test[\"target\"]\n",
    "\n",
    "X_train, X_val, y_train, y_val = train_test_split(X_train, y_train, test_size=0.2, random_state=42)"
   ],
   "id": "d5b3132e4407ca9e",
   "outputs": [],
   "execution_count": 67
  },
  {
   "metadata": {},
   "cell_type": "markdown",
   "source": "## Modelovanie",
   "id": "46d3a5af01dcc829"
  },
  {
   "metadata": {
    "ExecuteTime": {
     "end_time": "2024-11-01T09:37:15.505261Z",
     "start_time": "2024-11-01T09:37:15.503964Z"
    }
   },
   "cell_type": "code",
   "source": "",
   "id": "6e84682faf5990b8",
   "outputs": [],
   "execution_count": null
  },
  {
   "metadata": {},
   "cell_type": "markdown",
   "source": "## Vyhodnotenie modelov",
   "id": "dc37dc68041c6c9c"
  },
  {
   "metadata": {
    "ExecuteTime": {
     "end_time": "2024-11-01T09:37:15.569131Z",
     "start_time": "2024-11-01T09:37:15.566821Z"
    }
   },
   "cell_type": "code",
   "source": "",
   "id": "8cef3aad935f369a",
   "outputs": [],
   "execution_count": null
  }
 ],
 "metadata": {
  "kernelspec": {
   "display_name": "Python 3",
   "language": "python",
   "name": "python3"
  },
  "language_info": {
   "codemirror_mode": {
    "name": "ipython",
    "version": 2
   },
   "file_extension": ".py",
   "mimetype": "text/x-python",
   "name": "python",
   "nbconvert_exporter": "python",
   "pygments_lexer": "ipython2",
   "version": "2.7.6"
  }
 },
 "nbformat": 4,
 "nbformat_minor": 5
}
