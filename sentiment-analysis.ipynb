{
 "cells": [
  {
   "metadata": {},
   "cell_type": "markdown",
   "source": "## Načítanie knižníc",
   "id": "2241cf3812b9f830"
  },
  {
   "cell_type": "code",
   "id": "initial_id",
   "metadata": {
    "collapsed": true,
    "ExecuteTime": {
     "end_time": "2024-11-07T19:55:14.388640Z",
     "start_time": "2024-11-07T19:55:13.919644Z"
    }
   },
   "source": [
    "import matplotlib.pyplot as plt\n",
    "import seaborn as sns\n",
    "import pandas as pd\n",
    "import nltk\n",
    "import re\n",
    "\n",
    "from sklearn.metrics import classification_report, confusion_matrix, accuracy_score\n",
    "from sklearn.feature_extraction.text import TfidfVectorizer\n",
    "from sklearn.linear_model import LogisticRegression\n",
    "from sklearn.naive_bayes import MultinomialNB\n",
    "from sklearn.model_selection import train_test_split\n",
    "from sklearn.ensemble import RandomForestClassifier\n",
    "from sklearn.neighbors import KNeighborsClassifier\n",
    "from sklearn.tree import DecisionTreeClassifier\n",
    "from nltk.corpus import stopwords, wordnet\n",
    "from nltk.tokenize import word_tokenize\n",
    "from nltk.stem import WordNetLemmatizer\n",
    "from xgboost import XGBClassifier\n",
    "from sklearn.svm import SVC\n",
    "from nltk import pos_tag"
   ],
   "outputs": [],
   "execution_count": 2
  },
  {
   "metadata": {},
   "cell_type": "markdown",
   "source": "## Načítanie dát",
   "id": "44371e36d5097973"
  },
  {
   "metadata": {
    "ExecuteTime": {
     "end_time": "2024-11-07T19:55:14.583753Z",
     "start_time": "2024-11-07T19:55:14.396793Z"
    }
   },
   "cell_type": "code",
   "source": [
    "df_train = pd.read_csv('data/Twitter/twitter_training.csv')\n",
    "df_test = pd.read_csv('data/Twitter/twitter_validation.csv')\n",
    "\n",
    "df_train"
   ],
   "id": "87654f57da07c9a5",
   "outputs": [
    {
     "data": {
      "text/plain": [
       "       2401  Borderlands  Positive  \\\n",
       "0      2401  Borderlands  Positive   \n",
       "1      2401  Borderlands  Positive   \n",
       "2      2401  Borderlands  Positive   \n",
       "3      2401  Borderlands  Positive   \n",
       "4      2401  Borderlands  Positive   \n",
       "...     ...          ...       ...   \n",
       "74676  9200       Nvidia  Positive   \n",
       "74677  9200       Nvidia  Positive   \n",
       "74678  9200       Nvidia  Positive   \n",
       "74679  9200       Nvidia  Positive   \n",
       "74680  9200       Nvidia  Positive   \n",
       "\n",
       "      im getting on borderlands and i will murder you all ,  \n",
       "0      I am coming to the borders and I will kill you...     \n",
       "1      im getting on borderlands and i will kill you ...     \n",
       "2      im coming on borderlands and i will murder you...     \n",
       "3      im getting on borderlands 2 and i will murder ...     \n",
       "4      im getting into borderlands and i can murder y...     \n",
       "...                                                  ...     \n",
       "74676  Just realized that the Windows partition of my...     \n",
       "74677  Just realized that my Mac window partition is ...     \n",
       "74678  Just realized the windows partition of my Mac ...     \n",
       "74679  Just realized between the windows partition of...     \n",
       "74680  Just like the windows partition of my Mac is l...     \n",
       "\n",
       "[74681 rows x 4 columns]"
      ],
      "text/html": [
       "<div>\n",
       "<style scoped>\n",
       "    .dataframe tbody tr th:only-of-type {\n",
       "        vertical-align: middle;\n",
       "    }\n",
       "\n",
       "    .dataframe tbody tr th {\n",
       "        vertical-align: top;\n",
       "    }\n",
       "\n",
       "    .dataframe thead th {\n",
       "        text-align: right;\n",
       "    }\n",
       "</style>\n",
       "<table border=\"1\" class=\"dataframe\">\n",
       "  <thead>\n",
       "    <tr style=\"text-align: right;\">\n",
       "      <th></th>\n",
       "      <th>2401</th>\n",
       "      <th>Borderlands</th>\n",
       "      <th>Positive</th>\n",
       "      <th>im getting on borderlands and i will murder you all ,</th>\n",
       "    </tr>\n",
       "  </thead>\n",
       "  <tbody>\n",
       "    <tr>\n",
       "      <th>0</th>\n",
       "      <td>2401</td>\n",
       "      <td>Borderlands</td>\n",
       "      <td>Positive</td>\n",
       "      <td>I am coming to the borders and I will kill you...</td>\n",
       "    </tr>\n",
       "    <tr>\n",
       "      <th>1</th>\n",
       "      <td>2401</td>\n",
       "      <td>Borderlands</td>\n",
       "      <td>Positive</td>\n",
       "      <td>im getting on borderlands and i will kill you ...</td>\n",
       "    </tr>\n",
       "    <tr>\n",
       "      <th>2</th>\n",
       "      <td>2401</td>\n",
       "      <td>Borderlands</td>\n",
       "      <td>Positive</td>\n",
       "      <td>im coming on borderlands and i will murder you...</td>\n",
       "    </tr>\n",
       "    <tr>\n",
       "      <th>3</th>\n",
       "      <td>2401</td>\n",
       "      <td>Borderlands</td>\n",
       "      <td>Positive</td>\n",
       "      <td>im getting on borderlands 2 and i will murder ...</td>\n",
       "    </tr>\n",
       "    <tr>\n",
       "      <th>4</th>\n",
       "      <td>2401</td>\n",
       "      <td>Borderlands</td>\n",
       "      <td>Positive</td>\n",
       "      <td>im getting into borderlands and i can murder y...</td>\n",
       "    </tr>\n",
       "    <tr>\n",
       "      <th>...</th>\n",
       "      <td>...</td>\n",
       "      <td>...</td>\n",
       "      <td>...</td>\n",
       "      <td>...</td>\n",
       "    </tr>\n",
       "    <tr>\n",
       "      <th>74676</th>\n",
       "      <td>9200</td>\n",
       "      <td>Nvidia</td>\n",
       "      <td>Positive</td>\n",
       "      <td>Just realized that the Windows partition of my...</td>\n",
       "    </tr>\n",
       "    <tr>\n",
       "      <th>74677</th>\n",
       "      <td>9200</td>\n",
       "      <td>Nvidia</td>\n",
       "      <td>Positive</td>\n",
       "      <td>Just realized that my Mac window partition is ...</td>\n",
       "    </tr>\n",
       "    <tr>\n",
       "      <th>74678</th>\n",
       "      <td>9200</td>\n",
       "      <td>Nvidia</td>\n",
       "      <td>Positive</td>\n",
       "      <td>Just realized the windows partition of my Mac ...</td>\n",
       "    </tr>\n",
       "    <tr>\n",
       "      <th>74679</th>\n",
       "      <td>9200</td>\n",
       "      <td>Nvidia</td>\n",
       "      <td>Positive</td>\n",
       "      <td>Just realized between the windows partition of...</td>\n",
       "    </tr>\n",
       "    <tr>\n",
       "      <th>74680</th>\n",
       "      <td>9200</td>\n",
       "      <td>Nvidia</td>\n",
       "      <td>Positive</td>\n",
       "      <td>Just like the windows partition of my Mac is l...</td>\n",
       "    </tr>\n",
       "  </tbody>\n",
       "</table>\n",
       "<p>74681 rows × 4 columns</p>\n",
       "</div>"
      ]
     },
     "execution_count": 3,
     "metadata": {},
     "output_type": "execute_result"
    }
   ],
   "execution_count": 3
  },
  {
   "metadata": {},
   "cell_type": "markdown",
   "source": [
    "## Predspracovanie dáta\n",
    "\n",
    "#### Označenie stĺpcov"
   ],
   "id": "fcd31f5dc27dc38f"
  },
  {
   "metadata": {
    "ExecuteTime": {
     "end_time": "2024-11-07T19:55:15.935901Z",
     "start_time": "2024-11-07T19:55:15.933568Z"
    }
   },
   "cell_type": "code",
   "source": [
    "df_train.columns=['id','topic','target','tweet']\n",
    "df_test.columns=['id','topic','target','tweet']"
   ],
   "id": "139e4ee3c224bc66",
   "outputs": [],
   "execution_count": 4
  },
  {
   "metadata": {
    "ExecuteTime": {
     "end_time": "2024-11-07T19:55:15.968924Z",
     "start_time": "2024-11-07T19:55:15.964757Z"
    }
   },
   "cell_type": "code",
   "source": "df_test.head()",
   "id": "a8498c2e0918d1b1",
   "outputs": [
    {
     "data": {
      "text/plain": [
       "     id      topic    target  \\\n",
       "0   352     Amazon   Neutral   \n",
       "1  8312  Microsoft  Negative   \n",
       "2  4371      CS-GO  Negative   \n",
       "3  4433     Google   Neutral   \n",
       "4  6273       FIFA  Negative   \n",
       "\n",
       "                                               tweet  \n",
       "0  BBC News - Amazon boss Jeff Bezos rejects clai...  \n",
       "1  @Microsoft Why do I pay for WORD when it funct...  \n",
       "2  CSGO matchmaking is so full of closet hacking,...  \n",
       "3  Now the President is slapping Americans in the...  \n",
       "4  Hi @EAHelp I’ve had Madeleine McCann in my cel...  "
      ],
      "text/html": [
       "<div>\n",
       "<style scoped>\n",
       "    .dataframe tbody tr th:only-of-type {\n",
       "        vertical-align: middle;\n",
       "    }\n",
       "\n",
       "    .dataframe tbody tr th {\n",
       "        vertical-align: top;\n",
       "    }\n",
       "\n",
       "    .dataframe thead th {\n",
       "        text-align: right;\n",
       "    }\n",
       "</style>\n",
       "<table border=\"1\" class=\"dataframe\">\n",
       "  <thead>\n",
       "    <tr style=\"text-align: right;\">\n",
       "      <th></th>\n",
       "      <th>id</th>\n",
       "      <th>topic</th>\n",
       "      <th>target</th>\n",
       "      <th>tweet</th>\n",
       "    </tr>\n",
       "  </thead>\n",
       "  <tbody>\n",
       "    <tr>\n",
       "      <th>0</th>\n",
       "      <td>352</td>\n",
       "      <td>Amazon</td>\n",
       "      <td>Neutral</td>\n",
       "      <td>BBC News - Amazon boss Jeff Bezos rejects clai...</td>\n",
       "    </tr>\n",
       "    <tr>\n",
       "      <th>1</th>\n",
       "      <td>8312</td>\n",
       "      <td>Microsoft</td>\n",
       "      <td>Negative</td>\n",
       "      <td>@Microsoft Why do I pay for WORD when it funct...</td>\n",
       "    </tr>\n",
       "    <tr>\n",
       "      <th>2</th>\n",
       "      <td>4371</td>\n",
       "      <td>CS-GO</td>\n",
       "      <td>Negative</td>\n",
       "      <td>CSGO matchmaking is so full of closet hacking,...</td>\n",
       "    </tr>\n",
       "    <tr>\n",
       "      <th>3</th>\n",
       "      <td>4433</td>\n",
       "      <td>Google</td>\n",
       "      <td>Neutral</td>\n",
       "      <td>Now the President is slapping Americans in the...</td>\n",
       "    </tr>\n",
       "    <tr>\n",
       "      <th>4</th>\n",
       "      <td>6273</td>\n",
       "      <td>FIFA</td>\n",
       "      <td>Negative</td>\n",
       "      <td>Hi @EAHelp I’ve had Madeleine McCann in my cel...</td>\n",
       "    </tr>\n",
       "  </tbody>\n",
       "</table>\n",
       "</div>"
      ]
     },
     "execution_count": 5,
     "metadata": {},
     "output_type": "execute_result"
    }
   ],
   "execution_count": 5
  },
  {
   "metadata": {},
   "cell_type": "markdown",
   "source": [
    "\n",
    "#### Odstránenie irelevantných stĺpcov"
   ],
   "id": "28082adaa1cf8d09"
  },
  {
   "metadata": {
    "ExecuteTime": {
     "end_time": "2024-11-07T19:55:16.008322Z",
     "start_time": "2024-11-07T19:55:15.998859Z"
    }
   },
   "cell_type": "code",
   "source": [
    "df_train.drop(['id','topic'], axis=1, inplace=True)\n",
    "df_test.drop(['id','topic'], axis=1, inplace=True)"
   ],
   "id": "333837a2aab8a2e3",
   "outputs": [],
   "execution_count": 6
  },
  {
   "metadata": {},
   "cell_type": "markdown",
   "source": "#### Odstránenie chýbajúcich hodnôt",
   "id": "a01a9b17daab8a7"
  },
  {
   "metadata": {
    "ExecuteTime": {
     "end_time": "2024-11-07T19:55:16.107097Z",
     "start_time": "2024-11-07T19:55:16.092973Z"
    }
   },
   "cell_type": "code",
   "source": [
    "df_train.isna().sum()\n",
    "df_train.dropna(inplace=True)"
   ],
   "id": "cd6d47cd979317e1",
   "outputs": [],
   "execution_count": 7
  },
  {
   "metadata": {},
   "cell_type": "markdown",
   "source": "#### Odstránenie duplikátov",
   "id": "c009b246c07de36d"
  },
  {
   "metadata": {
    "ExecuteTime": {
     "end_time": "2024-11-07T19:55:16.255158Z",
     "start_time": "2024-11-07T19:55:16.220180Z"
    }
   },
   "cell_type": "code",
   "source": "print(df_train.duplicated().sum())",
   "id": "ac87ff34d4abaed5",
   "outputs": [
    {
     "name": "stdout",
     "output_type": "stream",
     "text": [
      "4227\n"
     ]
    }
   ],
   "execution_count": 8
  },
  {
   "metadata": {
    "ExecuteTime": {
     "end_time": "2024-11-07T19:55:16.332483Z",
     "start_time": "2024-11-07T19:55:16.294654Z"
    }
   },
   "cell_type": "code",
   "source": "df_train.drop_duplicates(inplace=True)",
   "id": "8d0d6624dee1062",
   "outputs": [],
   "execution_count": 9
  },
  {
   "metadata": {},
   "cell_type": "markdown",
   "source": "#### Odstránenie špeciálnych znakov, prevedenie na malé písmo a odstránenie stop slov",
   "id": "3122eadda6233f48"
  },
  {
   "metadata": {},
   "cell_type": "code",
   "source": [
    "nltk.download(\"stopwords\")\n",
    "stop_words = set(stopwords.words(\"english\"))\n",
    "\n",
    "def clean_text(text):\n",
    "    text = re.sub(r\"[^a-zA-Z\\s]\", \"\", text)\n",
    "    text = text.lower()\n",
    "    text = \" \".join(word for word in text.split() if word not in stop_words)\n",
    "    return text\n",
    "\n",
    "df_train[\"cleaned_tweet\"] = df_train[\"tweet\"].apply(clean_text)\n",
    "df_test[\"cleaned_tweet\"] = df_test[\"tweet\"].apply(clean_text)"
   ],
   "id": "7d2441200e54325d",
   "outputs": [],
   "execution_count": null
  },
  {
   "metadata": {},
   "cell_type": "markdown",
   "source": "#### Tokenizácia",
   "id": "550257a6fa1b31d3"
  },
  {
   "metadata": {},
   "cell_type": "code",
   "source": [
    "nltk.download(\"punkt_tab\")\n",
    "\n",
    "def tokenize_text(text):\n",
    "    return word_tokenize(text)\n",
    "\n",
    "df_train[\"tokenized_tweet\"] = df_train[\"cleaned_tweet\"].apply(tokenize_text)\n",
    "df_test[\"tokenized_tweet\"] = df_test[\"cleaned_tweet\"].apply(tokenize_text)"
   ],
   "id": "fa426e737f2925f1",
   "outputs": [],
   "execution_count": null
  },
  {
   "metadata": {},
   "cell_type": "markdown",
   "source": "#### Lematizácia",
   "id": "1f1f7466d864c339"
  },
  {
   "metadata": {},
   "cell_type": "code",
   "source": [
    "nltk.download(\"wordnet\")\n",
    "nltk.download(\"averaged_perceptron_tagger_eng\")\n",
    "\n",
    "def get_wordnet_pos(tag):\n",
    "    if tag.startswith('J'):\n",
    "        return wordnet.ADJ\n",
    "    elif tag.startswith('V'):\n",
    "        return wordnet.VERB\n",
    "    elif tag.startswith('N'):\n",
    "        return wordnet.NOUN\n",
    "    elif tag.startswith('R'):\n",
    "        return wordnet.ADV\n",
    "    else:\n",
    "        return wordnet.NOUN\n",
    "\n",
    "def lemmatize_text(tokens):\n",
    "    lemmatizer = WordNetLemmatizer()\n",
    "    pos_tags = pos_tag(tokens)\n",
    "    return [lemmatizer.lemmatize(token, get_wordnet_pos(tag)) for token, tag in pos_tags]\n",
    "\n",
    "df_train[\"lemmatized_tweet\"] = df_train[\"tokenized_tweet\"].apply(lemmatize_text)\n",
    "df_test[\"lemmatized_tweet\"] = df_test[\"tokenized_tweet\"].apply(lemmatize_text)"
   ],
   "id": "de90fc8f456f66d6",
   "outputs": [],
   "execution_count": null
  },
  {
   "metadata": {},
   "cell_type": "markdown",
   "source": "#### Enkódovanie cieľovej premennej",
   "id": "79e943df3a663e57"
  },
  {
   "metadata": {
    "ExecuteTime": {
     "end_time": "2024-11-07T19:55:37.642778Z",
     "start_time": "2024-11-07T19:55:37.636752Z"
    }
   },
   "cell_type": "code",
   "source": "df_train[\"target\"].unique()",
   "id": "60000d5dbd11621",
   "outputs": [
    {
     "data": {
      "text/plain": [
       "array(['Positive', 'Neutral', 'Negative', 'Irrelevant'], dtype=object)"
      ]
     },
     "execution_count": 13,
     "metadata": {},
     "output_type": "execute_result"
    }
   ],
   "execution_count": 13
  },
  {
   "metadata": {
    "ExecuteTime": {
     "end_time": "2024-11-07T19:55:37.740889Z",
     "start_time": "2024-11-07T19:55:37.734343Z"
    }
   },
   "cell_type": "code",
   "source": [
    "df_train[\"target\"] = df_train[\"target\"].map({\"Positive\": 0, \"Neutral\": 1,\"Negative\": 2, \"Irrelevant\": 3})\n",
    "df_test[\"target\"] = df_test[\"target\"].map({\"Positive\": 0, \"Neutral\": 1,\"Negative\": 2, \"Irrelevant\": 3})"
   ],
   "id": "4c0055db0f19632d",
   "outputs": [],
   "execution_count": 14
  },
  {
   "metadata": {},
   "cell_type": "markdown",
   "source": [
    "## Extrakcia príznakov\n",
    "\n",
    "\n",
    "#### Vektorová reprezentácia pomocou TF-IDF"
   ],
   "id": "1a21420f9f80e20"
  },
  {
   "metadata": {
    "ExecuteTime": {
     "end_time": "2024-11-07T19:55:38.115748Z",
     "start_time": "2024-11-07T19:55:37.758505Z"
    }
   },
   "cell_type": "code",
   "source": [
    "df_train[\"tf-idf_apply\"] = df_train[\"lemmatized_tweet\"].apply(lambda tokens: \" \".join(tokens))\n",
    "df_test[\"tf-idf_apply\"] = df_test[\"lemmatized_tweet\"].apply(lambda tokens: \" \".join(tokens))\n",
    "\n",
    "vectorizer = TfidfVectorizer(max_features=7500)\n",
    "X_train = vectorizer.fit_transform(df_train[\"tf-idf_apply\"])\n",
    "X_test = vectorizer.transform(df_test[\"tf-idf_apply\"])\n",
    "\n",
    "y_train = df_train[\"target\"]\n",
    "y_test = df_test[\"target\"]"
   ],
   "id": "54bd4a7b00c7ea20",
   "outputs": [],
   "execution_count": 15
  },
  {
   "metadata": {
    "ExecuteTime": {
     "end_time": "2024-11-07T19:55:38.131052Z",
     "start_time": "2024-11-07T19:55:38.125093Z"
    }
   },
   "cell_type": "code",
   "source": "df_train.head(10)",
   "id": "5d937958435472d",
   "outputs": [
    {
     "data": {
      "text/plain": [
       "   target                                              tweet  \\\n",
       "0       0  I am coming to the borders and I will kill you...   \n",
       "1       0  im getting on borderlands and i will kill you ...   \n",
       "2       0  im coming on borderlands and i will murder you...   \n",
       "3       0  im getting on borderlands 2 and i will murder ...   \n",
       "4       0  im getting into borderlands and i can murder y...   \n",
       "5       0  So I spent a few hours making something for fu...   \n",
       "6       0  So I spent a couple of hours doing something f...   \n",
       "7       0  So I spent a few hours doing something for fun...   \n",
       "8       0  So I spent a few hours making something for fu...   \n",
       "9       0  2010 So I spent a few hours making something f...   \n",
       "\n",
       "                                       cleaned_tweet  \\\n",
       "0                                coming borders kill   \n",
       "1                        im getting borderlands kill   \n",
       "2                       im coming borderlands murder   \n",
       "3                      im getting borderlands murder   \n",
       "4                      im getting borderlands murder   \n",
       "5  spent hours making something fun dont know hug...   \n",
       "6  spent couple hours something fun dont know im ...   \n",
       "7  spent hours something fun dont know im huge bo...   \n",
       "8  spent hours making something fun dont know hug...   \n",
       "9  spent hours making something fun dont know hug...   \n",
       "\n",
       "                                     tokenized_tweet  \\\n",
       "0                            [coming, borders, kill]   \n",
       "1                   [im, getting, borderlands, kill]   \n",
       "2                  [im, coming, borderlands, murder]   \n",
       "3                 [im, getting, borderlands, murder]   \n",
       "4                 [im, getting, borderlands, murder]   \n",
       "5  [spent, hours, making, something, fun, dont, k...   \n",
       "6  [spent, couple, hours, something, fun, dont, k...   \n",
       "7  [spent, hours, something, fun, dont, know, im,...   \n",
       "8  [spent, hours, making, something, fun, dont, k...   \n",
       "9  [spent, hours, making, something, fun, dont, k...   \n",
       "\n",
       "                                    lemmatized_tweet  \\\n",
       "0                               [come, border, kill]   \n",
       "1                        [im, get, borderland, kill]   \n",
       "2                     [im, come, borderland, murder]   \n",
       "3                      [im, get, borderland, murder]   \n",
       "4                      [im, get, borderland, murder]   \n",
       "5  [spent, hour, make, something, fun, dont, know...   \n",
       "6  [spent, couple, hour, something, fun, dont, kn...   \n",
       "7  [spent, hour, something, fun, dont, know, im, ...   \n",
       "8  [spent, hour, make, something, fun, dont, know...   \n",
       "9  [spent, hour, make, something, fun, dont, know...   \n",
       "\n",
       "                                        tf-idf_apply  \n",
       "0                                   come border kill  \n",
       "1                             im get borderland kill  \n",
       "2                          im come borderland murder  \n",
       "3                           im get borderland murder  \n",
       "4                           im get borderland murder  \n",
       "5  spent hour make something fun dont know huge b...  \n",
       "6  spent couple hour something fun dont know im h...  \n",
       "7  spent hour something fun dont know im huge bor...  \n",
       "8  spent hour make something fun dont know huge r...  \n",
       "9  spent hour make something fun dont know huge r...  "
      ],
      "text/html": [
       "<div>\n",
       "<style scoped>\n",
       "    .dataframe tbody tr th:only-of-type {\n",
       "        vertical-align: middle;\n",
       "    }\n",
       "\n",
       "    .dataframe tbody tr th {\n",
       "        vertical-align: top;\n",
       "    }\n",
       "\n",
       "    .dataframe thead th {\n",
       "        text-align: right;\n",
       "    }\n",
       "</style>\n",
       "<table border=\"1\" class=\"dataframe\">\n",
       "  <thead>\n",
       "    <tr style=\"text-align: right;\">\n",
       "      <th></th>\n",
       "      <th>target</th>\n",
       "      <th>tweet</th>\n",
       "      <th>cleaned_tweet</th>\n",
       "      <th>tokenized_tweet</th>\n",
       "      <th>lemmatized_tweet</th>\n",
       "      <th>tf-idf_apply</th>\n",
       "    </tr>\n",
       "  </thead>\n",
       "  <tbody>\n",
       "    <tr>\n",
       "      <th>0</th>\n",
       "      <td>0</td>\n",
       "      <td>I am coming to the borders and I will kill you...</td>\n",
       "      <td>coming borders kill</td>\n",
       "      <td>[coming, borders, kill]</td>\n",
       "      <td>[come, border, kill]</td>\n",
       "      <td>come border kill</td>\n",
       "    </tr>\n",
       "    <tr>\n",
       "      <th>1</th>\n",
       "      <td>0</td>\n",
       "      <td>im getting on borderlands and i will kill you ...</td>\n",
       "      <td>im getting borderlands kill</td>\n",
       "      <td>[im, getting, borderlands, kill]</td>\n",
       "      <td>[im, get, borderland, kill]</td>\n",
       "      <td>im get borderland kill</td>\n",
       "    </tr>\n",
       "    <tr>\n",
       "      <th>2</th>\n",
       "      <td>0</td>\n",
       "      <td>im coming on borderlands and i will murder you...</td>\n",
       "      <td>im coming borderlands murder</td>\n",
       "      <td>[im, coming, borderlands, murder]</td>\n",
       "      <td>[im, come, borderland, murder]</td>\n",
       "      <td>im come borderland murder</td>\n",
       "    </tr>\n",
       "    <tr>\n",
       "      <th>3</th>\n",
       "      <td>0</td>\n",
       "      <td>im getting on borderlands 2 and i will murder ...</td>\n",
       "      <td>im getting borderlands murder</td>\n",
       "      <td>[im, getting, borderlands, murder]</td>\n",
       "      <td>[im, get, borderland, murder]</td>\n",
       "      <td>im get borderland murder</td>\n",
       "    </tr>\n",
       "    <tr>\n",
       "      <th>4</th>\n",
       "      <td>0</td>\n",
       "      <td>im getting into borderlands and i can murder y...</td>\n",
       "      <td>im getting borderlands murder</td>\n",
       "      <td>[im, getting, borderlands, murder]</td>\n",
       "      <td>[im, get, borderland, murder]</td>\n",
       "      <td>im get borderland murder</td>\n",
       "    </tr>\n",
       "    <tr>\n",
       "      <th>5</th>\n",
       "      <td>0</td>\n",
       "      <td>So I spent a few hours making something for fu...</td>\n",
       "      <td>spent hours making something fun dont know hug...</td>\n",
       "      <td>[spent, hours, making, something, fun, dont, k...</td>\n",
       "      <td>[spent, hour, make, something, fun, dont, know...</td>\n",
       "      <td>spent hour make something fun dont know huge b...</td>\n",
       "    </tr>\n",
       "    <tr>\n",
       "      <th>6</th>\n",
       "      <td>0</td>\n",
       "      <td>So I spent a couple of hours doing something f...</td>\n",
       "      <td>spent couple hours something fun dont know im ...</td>\n",
       "      <td>[spent, couple, hours, something, fun, dont, k...</td>\n",
       "      <td>[spent, couple, hour, something, fun, dont, kn...</td>\n",
       "      <td>spent couple hour something fun dont know im h...</td>\n",
       "    </tr>\n",
       "    <tr>\n",
       "      <th>7</th>\n",
       "      <td>0</td>\n",
       "      <td>So I spent a few hours doing something for fun...</td>\n",
       "      <td>spent hours something fun dont know im huge bo...</td>\n",
       "      <td>[spent, hours, something, fun, dont, know, im,...</td>\n",
       "      <td>[spent, hour, something, fun, dont, know, im, ...</td>\n",
       "      <td>spent hour something fun dont know im huge bor...</td>\n",
       "    </tr>\n",
       "    <tr>\n",
       "      <th>8</th>\n",
       "      <td>0</td>\n",
       "      <td>So I spent a few hours making something for fu...</td>\n",
       "      <td>spent hours making something fun dont know hug...</td>\n",
       "      <td>[spent, hours, making, something, fun, dont, k...</td>\n",
       "      <td>[spent, hour, make, something, fun, dont, know...</td>\n",
       "      <td>spent hour make something fun dont know huge r...</td>\n",
       "    </tr>\n",
       "    <tr>\n",
       "      <th>9</th>\n",
       "      <td>0</td>\n",
       "      <td>2010 So I spent a few hours making something f...</td>\n",
       "      <td>spent hours making something fun dont know hug...</td>\n",
       "      <td>[spent, hours, making, something, fun, dont, k...</td>\n",
       "      <td>[spent, hour, make, something, fun, dont, know...</td>\n",
       "      <td>spent hour make something fun dont know huge r...</td>\n",
       "    </tr>\n",
       "  </tbody>\n",
       "</table>\n",
       "</div>"
      ]
     },
     "execution_count": 16,
     "metadata": {},
     "output_type": "execute_result"
    }
   ],
   "execution_count": 16
  },
  {
   "metadata": {},
   "cell_type": "markdown",
   "source": "## Rozdelenie trénovacej sady na trénovaciu a validačnú",
   "id": "8628133963472921"
  },
  {
   "metadata": {
    "ExecuteTime": {
     "end_time": "2024-11-07T20:23:05.570279Z",
     "start_time": "2024-11-07T20:23:05.536257Z"
    }
   },
   "cell_type": "code",
   "source": "X_train, X_val, y_train, y_val = train_test_split(X_train, y_train, test_size=0.15, random_state=42)",
   "id": "a5fd376f39be32c2",
   "outputs": [],
   "execution_count": 24
  },
  {
   "metadata": {},
   "cell_type": "markdown",
   "source": "## Modelovanie",
   "id": "46d3a5af01dcc829"
  },
  {
   "metadata": {
    "ExecuteTime": {
     "end_time": "2024-11-07T20:34:18.171365Z",
     "start_time": "2024-11-07T20:23:35.303841Z"
    }
   },
   "cell_type": "code",
   "source": [
    "logistic_regression = LogisticRegression()\n",
    "naive_bayes = MultinomialNB()\n",
    "svm = SVC()\n",
    "random_forest = RandomForestClassifier()\n",
    "knn = KNeighborsClassifier()\n",
    "xgboost_model = XGBClassifier()\n",
    "decision_tree = DecisionTreeClassifier()\n",
    "\n",
    "logistic_regression.fit(X_train, y_train)\n",
    "naive_bayes.fit(X_train, y_train)\n",
    "svm.fit(X_train, y_train)\n",
    "random_forest.fit(X_train, y_train)\n",
    "knn.fit(X_train, y_train)\n",
    "xgboost_model.fit(X_train, y_train)\n",
    "decision_tree.fit(X_train, y_train)\n",
    "\n",
    "models = (\n",
    "    (\"Logistic Regression\", logistic_regression),\n",
    "    (\"Naive Bayes\", naive_bayes),\n",
    "    (\"SVM\", svm),\n",
    "    (\"Random Forest\", random_forest),\n",
    "    (\"Decision Tree\", decision_tree),\n",
    "    (\"KNN\", knn),\n",
    "    (\"XGBoost\", xgboost_model)\n",
    ")\n",
    "\n",
    "for name, model in models:\n",
    "    y_val_pred = model.predict(X_val)\n",
    "    print(f\"{name} Validation Accuracy: {accuracy_score(y_val, y_val_pred)}\")"
   ],
   "id": "6e84682faf5990b8",
   "outputs": [
    {
     "name": "stderr",
     "output_type": "stream",
     "text": [
      "/Users/m4/miniconda3/envs/oz/lib/python3.13/site-packages/sklearn/linear_model/_logistic.py:469: ConvergenceWarning: lbfgs failed to converge (status=1):\n",
      "STOP: TOTAL NO. of ITERATIONS REACHED LIMIT.\n",
      "\n",
      "Increase the number of iterations (max_iter) or scale the data as shown in:\n",
      "    https://scikit-learn.org/stable/modules/preprocessing.html\n",
      "Please also refer to the documentation for alternative solver options:\n",
      "    https://scikit-learn.org/stable/modules/linear_model.html#logistic-regression\n",
      "  n_iter_i = _check_optimize_result(\n"
     ]
    },
    {
     "name": "stdout",
     "output_type": "stream",
     "text": [
      "Logistic Regression Validation Accuracy: 0.6955935251798561\n",
      "Naive Bayes Validation Accuracy: 0.659285071942446\n",
      "SVM Validation Accuracy: 0.8877023381294964\n",
      "Random Forest Validation Accuracy: 0.8852293165467626\n",
      "Decision Tree Validation Accuracy: 0.7614658273381295\n",
      "KNN Validation Accuracy: 0.84375\n",
      "XGBoost Validation Accuracy: 0.6337679856115108\n"
     ]
    }
   ],
   "execution_count": 25
  },
  {
   "metadata": {},
   "cell_type": "markdown",
   "source": "## Vyhodnotenie modelov",
   "id": "dc37dc68041c6c9c"
  },
  {
   "metadata": {
    "ExecuteTime": {
     "end_time": "2024-11-07T20:13:34.900776Z",
     "start_time": "2024-11-07T20:13:31.034251Z"
    }
   },
   "cell_type": "code",
   "source": [
    "for name, model in models:\n",
    "    y_pred = model.predict(X_test)\n",
    "    print(f\"{name} Test Accuracy: {accuracy_score(y_test, y_pred)}\")"
   ],
   "id": "8cef3aad935f369a",
   "outputs": [
    {
     "name": "stdout",
     "output_type": "stream",
     "text": [
      "Logistic Regression Test Accuracy: 0.7927927927927928\n",
      "Naive Bayes Test Accuracy: 0.7217217217217218\n",
      "SVM Test Accuracy: 0.965965965965966\n",
      "Random Forest Test Accuracy: 0.9579579579579579\n",
      "Decision Tree Test Accuracy: 0.918918918918919\n",
      "KNN Test Accuracy: 0.9379379379379379\n",
      "XGBoost Test Accuracy: 0.7467467467467468\n"
     ]
    }
   ],
   "execution_count": 23
  },
  {
   "metadata": {},
   "cell_type": "markdown",
   "source": "## Klasifikačná správa a vizualizácia matice zámen najlepších modelov",
   "id": "5c9167eb40ab5b54"
  },
  {
   "metadata": {
    "ExecuteTime": {
     "end_time": "2024-11-07T20:09:55.934970Z",
     "start_time": "2024-11-07T20:09:55.933065Z"
    }
   },
   "cell_type": "code",
   "source": [
    "best_models = (\n",
    "    (\"SVM\",svm),\n",
    "    (\"Random Forest\", random_forest),\n",
    "    (\"KNN\", knn)\n",
    ")"
   ],
   "id": "79caa5b2bdaf11dd",
   "outputs": [],
   "execution_count": 20
  },
  {
   "metadata": {
    "ExecuteTime": {
     "end_time": "2024-11-07T20:10:03.521702Z",
     "start_time": "2024-11-07T20:09:55.948615Z"
    }
   },
   "cell_type": "code",
   "source": [
    "sns.set_style(\"white\")\n",
    "\n",
    "target_names = [\"Positive\", \"Neutral\", \"Negative\", \"Irrelevant\"]\n",
    "\n",
    "for name, model in best_models:\n",
    "    y_pred = model.predict(X_test)\n",
    "    report = classification_report(y_test, y_pred, target_names=target_names, output_dict=True)\n",
    "    report_df = pd.DataFrame(report).transpose().reset_index()\n",
    "\n",
    "    report_melted = report_df.melt(id_vars='index', value_vars=['precision', 'recall', 'f1-score'], var_name='metric', value_name='score')\n",
    "    report_melted = report_melted[~report_melted['index'].isin(['accuracy', 'macro avg', 'weighted avg'])]\n",
    "\n",
    "    plt.figure(figsize=(10, 6))\n",
    "    ax = sns.barplot(x='index', y='score', hue='metric', data=report_melted)\n",
    "    \n",
    "    for container in ax.containers:\n",
    "        ax.bar_label(container, fmt='%.2f')\n",
    "\n",
    "    plt.title(f'Classification Report of {name}')\n",
    "    plt.xlabel('Class')\n",
    "    plt.ylabel('Score')\n",
    "    plt.legend(title='Metric')\n",
    "    plt.show()\n",
    "\n",
    "for name, model in best_models:\n",
    "    sns.heatmap(confusion_matrix(y_test, model.predict(X_test)), annot=True, cmap='Blues', linewidths=5, fmt='d', xticklabels=target_names, yticklabels=target_names, cbar=False)\n",
    "    plt.title(f'CM of {name}')\n",
    "    plt.xlabel('True')\n",
    "    plt.ylabel('Predicted')\n",
    "    plt.show()"
   ],
   "id": "378a37bfcc8e9674",
   "outputs": [
    {
     "data": {
      "text/plain": [
       "<Figure size 1000x600 with 1 Axes>"
      ],
      "image/png": "[encoded data removed]"
     },
     "metadata": {},
     "output_type": "display_data"
    },
    {
     "data": {
      "text/plain": [
       "<Figure size 1000x600 with 1 Axes>"
      ],
      "image/png": "[encoded data removed]"
     },
     "metadata": {},
     "output_type": "display_data"
    },
    {
     "data": {
      "text/plain": [
       "<Figure size 1000x600 with 1 Axes>"
      ],
      "image/png": "[encoded data removed]"
     },
     "metadata": {},
     "output_type": "display_data"
    },
    {
     "data": {
      "text/plain": [
       "<Figure size 640x480 with 1 Axes>"
      ],
      "image/png": "[encoded data removed]"
     },
     "metadata": {},
     "output_type": "display_data"
    },
    {
     "data": {
      "text/plain": [
       "<Figure size 640x480 with 1 Axes>"
      ],
      "image/png": "[encoded data removed]"
     },
     "metadata": {},
     "output_type": "display_data"
    },
    {
     "data": {
      "text/plain": [
       "<Figure size 640x480 with 1 Axes>"
      ],
      "image/png": "[encoded data removed]"
     },
     "metadata": {},
     "output_type": "display_data"
    }
   ],
   "execution_count": 21
  },
  {
   "metadata": {},
   "cell_type": "markdown",
   "source": "## Testovanie na príkladoch",
   "id": "e95f5cf9a19726e8"
  },
  {
   "metadata": {
    "ExecuteTime": {
     "end_time": "2024-11-07T20:51:44.389812Z",
     "start_time": "2024-11-07T20:49:33.352281Z"
    }
   },
   "cell_type": "code",
   "source": [
    "while True:\n",
    "    sentence = input(\"Enter a text: \")\n",
    "    if sentence.lower() == 'exit':\n",
    "        break\n",
    "\n",
    "    preprocessed_sentence = \" \".join(lemmatize_text(tokenize_text(clean_text(sentence))))\n",
    "    transformed_sentence = vectorizer.transform([preprocessed_sentence])\n",
    "\n",
    "    prediction = svm.predict(transformed_sentence)\n",
    "\n",
    "    label_map = {0: \"Positive\", 1: \"Neutral\", 2: \"Negative\", 3: \"Irrelevant\"}\n",
    "    predicted_label = label_map[prediction[0]]\n",
    "\n",
    "    print(\"Your sentence:\", sentence)\n",
    "    print(\"Predicted label:\", predicted_label)"
   ],
   "id": "19567c693b3e6008",
   "outputs": [
    {
     "name": "stdout",
     "output_type": "stream",
     "text": [
      "Your sentence: The new update made the app so much better, nice!\n",
      "Predicted label: Positive\n",
      "Your sentence: Hello\n",
      "Predicted label: Neutral\n",
      "Your sentence: What time is the meeting tomorrow?\n",
      "Predicted label: Positive\n",
      "Your sentence: I love TUKE\n",
      "Predicted label: Positive\n",
      "Your sentence: I hate SmerSDD!!\n",
      "Predicted label: Negative\n"
     ]
    }
   ],
   "execution_count": 26
  },
  {
   "metadata": {},
   "cell_type": "markdown",
   "source": [
    "## Záver\n",
    "abrakadabra abrakadabra abrakadabra "
   ],
   "id": "833ae9af1f5ecfc3"
  }
 ],
 "metadata": {
  "kernelspec": {
   "display_name": "Python 3",
   "language": "python",
   "name": "python3"
  },
  "language_info": {
   "codemirror_mode": {
    "name": "ipython",
    "version": 2
   },
   "file_extension": ".py",
   "mimetype": "text/x-python",
   "name": "python",
   "nbconvert_exporter": "python",
   "pygments_lexer": "ipython2",
   "version": "2.7.6"
  }
 },
 "nbformat": 4,
 "nbformat_minor": 5
}
